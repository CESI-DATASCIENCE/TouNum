{
 "cells": [
  {
   "cell_type": "code",
   "execution_count": 1,
   "id": "34180db1",
   "metadata": {},
   "outputs": [],
   "source": [
    "\n",
    "# ✅ Imports\n",
    "import os\n",
    "import tensorflow as tf\n",
    "from tensorflow.keras.applications import EfficientNetB0\n",
    "from tensorflow.keras.layers import GlobalAveragePooling2D, Dense, Dropout\n",
    "from tensorflow.keras.models import Model\n",
    "from tensorflow.keras.optimizers import Adam\n",
    "from tensorflow.keras.preprocessing.image import ImageDataGenerator\n",
    "from sklearn.metrics import confusion_matrix, ConfusionMatrixDisplay\n",
    "import matplotlib.pyplot as plt\n",
    "import numpy as np\n"
   ]
  },
  {
   "cell_type": "code",
   "execution_count": 2,
   "id": "1de483b3",
   "metadata": {},
   "outputs": [],
   "source": [
    "\n",
    "def build_efficientnet_binary_model(input_shape=(128, 128, 3), version=\"B0\"):\n",
    "    base_model = EfficientNetB0(include_top=False, weights='imagenet', input_shape=input_shape)\n",
    "    base_model.trainable = False\n",
    "\n",
    "    x = GlobalAveragePooling2D()(base_model.output)\n",
    "    x = Dropout(0.4)(x)\n",
    "    x = Dense(128, activation='relu')(x)\n",
    "    x = Dropout(0.2)(x)\n",
    "    output = Dense(1, activation='sigmoid')(x)\n",
    "\n",
    "    model = Model(inputs=base_model.input, outputs=output)\n",
    "    model.compile(optimizer=Adam(learning_rate=0.001),\n",
    "                  loss='binary_crossentropy',\n",
    "                  metrics=['accuracy'])\n",
    "    return model, base_model\n"
   ]
  },
  {
   "cell_type": "code",
   "execution_count": 3,
   "id": "edc8b166",
   "metadata": {},
   "outputs": [],
   "source": [
    "\n",
    "def prepare_binary_data(data_dir, target_size=(128, 128), batch_size=32, val_split=0.2):\n",
    "    datagen = ImageDataGenerator(rescale=1./255, validation_split=val_split)\n",
    "    train_gen = datagen.flow_from_directory(data_dir, target_size=target_size,\n",
    "                                            batch_size=batch_size,\n",
    "                                            class_mode='binary',\n",
    "                                            subset='training')\n",
    "    val_gen = datagen.flow_from_directory(data_dir, target_size=target_size,\n",
    "                                          batch_size=batch_size,\n",
    "                                          class_mode='binary',\n",
    "                                          subset='validation')\n",
    "    return train_gen, val_gen\n"
   ]
  },
  {
   "cell_type": "code",
   "execution_count": 4,
   "id": "60dea440",
   "metadata": {},
   "outputs": [],
   "source": [
    "\n",
    "def train_binary_model(model, train_gen, val_gen, version=\"B0\", category=\"binary\", epochs=5):\n",
    "    os.makedirs(f\"models/{category}\", exist_ok=True)\n",
    "    save_path = f\"models/{category}/efficientnet_{version}.keras\"\n",
    "\n",
    "    callbacks = [\n",
    "        tf.keras.callbacks.ModelCheckpoint(save_path, save_best_only=True),\n",
    "        tf.keras.callbacks.EarlyStopping(patience=3, restore_best_weights=True),\n",
    "        tf.keras.callbacks.TensorBoard(log_dir=f\"logs/efficientnet_{version}\")\n",
    "    ]\n",
    "\n",
    "    history = model.fit(train_gen,\n",
    "                        validation_data=val_gen,\n",
    "                        epochs=epochs,\n",
    "                        callbacks=callbacks)\n",
    "    return history\n"
   ]
  },
  {
   "cell_type": "code",
   "execution_count": 5,
   "id": "61c7dcf0",
   "metadata": {},
   "outputs": [],
   "source": [
    "\n",
    "def fine_tune_binary_model(model, base_model, train_gen, val_gen, fine_tune_at=100,\n",
    "                           initial_epochs=5, fine_tune_epochs=5, version=\"B0\", category=\"binary\"):\n",
    "    base_model.trainable = True\n",
    "    for layer in base_model.layers[:fine_tune_at]:\n",
    "        layer.trainable = False\n",
    "\n",
    "    model.compile(optimizer=Adam(learning_rate=1e-5),\n",
    "                  loss='binary_crossentropy',\n",
    "                  metrics=['accuracy'])\n",
    "\n",
    "    total_epochs = initial_epochs + fine_tune_epochs\n",
    "    save_path = f\"models/{category}/efficientnet_{version}_finetuned.keras\"\n",
    "    callbacks = [\n",
    "        tf.keras.callbacks.ModelCheckpoint(save_path, save_best_only=True),\n",
    "        tf.keras.callbacks.EarlyStopping(patience=3, restore_best_weights=True),\n",
    "        tf.keras.callbacks.TensorBoard(log_dir=f\"logs/efficientnet_{version}_finetune\")\n",
    "    ]\n",
    "\n",
    "    history = model.fit(train_gen,\n",
    "                        validation_data=val_gen,\n",
    "                        epochs=total_epochs,\n",
    "                        initial_epoch=initial_epochs,\n",
    "                        callbacks=callbacks)\n",
    "    return history\n"
   ]
  },
  {
   "cell_type": "code",
   "execution_count": 6,
   "id": "3f27edf4",
   "metadata": {},
   "outputs": [],
   "source": [
    "\n",
    "def evaluate_binary_model_with_confusion(model, val_gen, class_names=None, normalize=True):\n",
    "    loss, acc = model.evaluate(val_gen, verbose=0)\n",
    "    print(f\"✅ Accuracy: {acc*100:.2f}%, Loss: {loss:.4f}\")\n",
    "\n",
    "    y_true = val_gen.classes\n",
    "    y_pred_probs = model.predict(val_gen, verbose=0)\n",
    "    y_pred = (y_pred_probs > 0.5).astype(int).reshape(-1)\n",
    "\n",
    "    if class_names is None:\n",
    "        class_names = list(val_gen.class_indices.keys())\n",
    "\n",
    "    cm = confusion_matrix(y_true, y_pred)\n",
    "    if normalize:\n",
    "        cm = cm.astype(\"float\") / cm.sum(axis=1, keepdims=True)\n",
    "\n",
    "    disp = ConfusionMatrixDisplay(confusion_matrix=cm, display_labels=class_names)\n",
    "    disp.plot(cmap=plt.cm.Blues, xticks_rotation=45)\n",
    "    plt.gcf().set_size_inches(8, 6)\n",
    "    plt.title(\"📌 Matrice de confusion\")\n",
    "    plt.tight_layout()\n",
    "    plt.show()\n"
   ]
  },
  {
   "cell_type": "code",
   "execution_count": 9,
   "id": "9a5546c4",
   "metadata": {},
   "outputs": [],
   "source": [
    "\n",
    "def continue_binary_training_from_checkpoint(model_path, train_gen, val_gen, version=\"B0\", category=\"binary\",\n",
    "                                             additional_epochs=5, fine_tune_at=100, learning_rate=1e-5):\n",
    "    model = tf.keras.models.load_model(model_path)\n",
    "    print(f\"✅ Loaded model from {model_path}\")\n",
    "\n",
    "    base_model = None\n",
    "    for layer in model.layers:\n",
    "        if isinstance(layer, tf.keras.Model):\n",
    "            base_model = layer\n",
    "            break\n",
    "\n",
    "    if base_model:\n",
    "        base_model.trainable = True\n",
    "        for layer in base_model.layers[:fine_tune_at]:\n",
    "            layer.trainable = False\n",
    "        print(f\"🔁 Fine-tuning enabled from layer {fine_tune_at}\")\n",
    "    else:\n",
    "        print(\"⚠️ No base model found for fine-tuning.\")\n",
    "\n",
    "    model.compile(optimizer=Adam(learning_rate=learning_rate),\n",
    "                  loss='binary_crossentropy',\n",
    "                  metrics=['accuracy'])\n",
    "\n",
    "    save_path = f\"models/{category}/efficientnet_{version}_continued.keras\"\n",
    "    callbacks = [\n",
    "        tf.keras.callbacks.ModelCheckpoint(save_path, save_best_only=True),\n",
    "        tf.keras.callbacks.EarlyStopping(patience=3, restore_best_weights=True),\n",
    "        tf.keras.callbacks.TensorBoard(log_dir=f\"logs/efficientnet_{version}_continued\")\n",
    "    ]\n",
    "\n",
    "    history = model.fit(train_gen,\n",
    "                        validation_data=val_gen,\n",
    "                        epochs=additional_epochs,\n",
    "                        callbacks=callbacks)\n",
    "\n",
    "    return model, history\n"
   ]
  },
  {
   "cell_type": "code",
   "execution_count": 11,
   "id": "c6cdfa73",
   "metadata": {},
   "outputs": [
    {
     "name": "stdout",
     "output_type": "stream",
     "text": [
      "Found 18618 images belonging to 2 classes.\n",
      "Found 4653 images belonging to 2 classes.\n",
      "Epoch 1/5\n",
      "\u001b[1m582/582\u001b[0m \u001b[32m━━━━━━━━━━━━━━━━━━━━\u001b[0m\u001b[37m\u001b[0m \u001b[1m760s\u001b[0m 1s/step - accuracy: 0.5558 - loss: 0.6944 - val_accuracy: 0.5706 - val_loss: 0.6833\n",
      "Epoch 2/5\n",
      "\u001b[1m582/582\u001b[0m \u001b[32m━━━━━━━━━━━━━━━━━━━━\u001b[0m\u001b[37m\u001b[0m \u001b[1m315s\u001b[0m 448ms/step - accuracy: 0.5670 - loss: 0.6850 - val_accuracy: 0.5706 - val_loss: 0.6830\n",
      "Epoch 3/5\n",
      "\u001b[1m582/582\u001b[0m \u001b[32m━━━━━━━━━━━━━━━━━━━━\u001b[0m\u001b[37m\u001b[0m \u001b[1m300s\u001b[0m 516ms/step - accuracy: 0.5686 - loss: 0.6853 - val_accuracy: 0.5706 - val_loss: 0.6838\n",
      "Epoch 4/5\n",
      "\u001b[1m582/582\u001b[0m \u001b[32m━━━━━━━━━━━━━━━━━━━━\u001b[0m\u001b[37m\u001b[0m \u001b[1m538s\u001b[0m 924ms/step - accuracy: 0.5664 - loss: 0.6844 - val_accuracy: 0.5706 - val_loss: 0.6832\n",
      "Epoch 5/5\n",
      "\u001b[1m582/582\u001b[0m \u001b[32m━━━━━━━━━━━━━━━━━━━━\u001b[0m\u001b[37m\u001b[0m \u001b[1m460s\u001b[0m 790ms/step - accuracy: 0.5698 - loss: 0.6839 - val_accuracy: 0.5706 - val_loss: 0.6832\n",
      "Epoch 6/35\n",
      "\u001b[1m582/582\u001b[0m \u001b[32m━━━━━━━━━━━━━━━━━━━━\u001b[0m\u001b[37m\u001b[0m \u001b[1m647s\u001b[0m 985ms/step - accuracy: 0.5883 - loss: 0.7597 - val_accuracy: 0.6669 - val_loss: 0.5900\n",
      "Epoch 7/35\n",
      "\u001b[1m582/582\u001b[0m \u001b[32m━━━━━━━━━━━━━━━━━━━━\u001b[0m\u001b[37m\u001b[0m \u001b[1m362s\u001b[0m 620ms/step - accuracy: 0.7350 - loss: 0.5033 - val_accuracy: 0.6937 - val_loss: 0.5624\n",
      "Epoch 8/35\n",
      "\u001b[1m582/582\u001b[0m \u001b[32m━━━━━━━━━━━━━━━━━━━━\u001b[0m\u001b[37m\u001b[0m \u001b[1m460s\u001b[0m 792ms/step - accuracy: 0.7574 - loss: 0.4646 - val_accuracy: 0.6581 - val_loss: 0.6203\n",
      "Epoch 9/35\n",
      "\u001b[1m582/582\u001b[0m \u001b[32m━━━━━━━━━━━━━━━━━━━━\u001b[0m\u001b[37m\u001b[0m \u001b[1m621s\u001b[0m 1s/step - accuracy: 0.7774 - loss: 0.4317 - val_accuracy: 0.6731 - val_loss: 0.5964\n",
      "Epoch 10/35\n",
      "\u001b[1m582/582\u001b[0m \u001b[32m━━━━━━━━━━━━━━━━━━━━\u001b[0m\u001b[37m\u001b[0m \u001b[1m374s\u001b[0m 643ms/step - accuracy: 0.7790 - loss: 0.4285 - val_accuracy: 0.6701 - val_loss: 0.6461\n",
      "✅ Accuracy: 69.37%, Loss: 0.5624\n"
     ]
    },
    {
     "name": "stderr",
     "output_type": "stream",
     "text": [
      "C:\\Users\\loren\\AppData\\Local\\Temp\\ipykernel_23472\\2361859782.py:20: UserWarning: Glyph 128204 (\\N{PUSHPIN}) missing from font(s) DejaVu Sans.\n",
      "  plt.tight_layout()\n",
      "c:\\Users\\loren\\Documents\\GitHub\\TouNum\\env\\Lib\\site-packages\\IPython\\core\\pylabtools.py:170: UserWarning: Glyph 128204 (\\N{PUSHPIN}) missing from font(s) DejaVu Sans.\n",
      "  fig.canvas.print_figure(bytes_io, **kw)\n"
     ]
    },
    {
     "data": {
      "image/png": "[encoded data removed]",
      "text/plain": [
       "<Figure size 800x600 with 2 Axes>"
      ]
     },
     "metadata": {},
     "output_type": "display_data"
    }
   ],
   "source": [
    "\n",
    "# 🔁 Example usage for binary classification\n",
    "data_dir = './dataset_binary'\n",
    "train_gen, val_gen = prepare_binary_data(data_dir)\n",
    "model, base_model = build_efficientnet_binary_model(version=\"B0\")\n",
    "history = train_binary_model(model, train_gen, val_gen, version=\"B0\")\n",
    "history_ft = fine_tune_binary_model(model, base_model, train_gen, val_gen, initial_epochs=len(history.epoch),fine_tune_epochs=30, version=\"B0\")\n",
    "evaluate_binary_model_with_confusion(model, val_gen)\n"
   ]
  }
 ],
 "metadata": {
  "kernelspec": {
   "display_name": "env",
   "language": "python",
   "name": "python3"
  },
  "language_info": {
   "codemirror_mode": {
    "name": "ipython",
    "version": 3
   },
   "file_extension": ".py",
   "mimetype": "text/x-python",
   "name": "python",
   "nbconvert_exporter": "python",
   "pygments_lexer": "ipython3",
   "version": "3.11.9"
  }
 },
 "nbformat": 4,
 "nbformat_minor": 5
}
