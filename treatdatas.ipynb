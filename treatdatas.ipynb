{
 "cells": [
  {
   "cell_type": "code",
   "execution_count": 2,
   "id": "5e0cb08e",
   "metadata": {},
   "outputs": [
    {
     "name": "stdout",
     "output_type": "stream",
     "text": [
      "✅ No_photos folder created with matching proportions and cleaned of corrupted files.\n"
     ]
    }
   ],
   "source": [
    "import os\n",
    "import shutil\n",
    "from PIL import Image\n",
    "import random\n",
    "\n",
    "# Base directory\n",
    "base_path = \"./dataset_binary\"\n",
    "photo_folder = os.path.join(base_path, \"Photo\")\n",
    "no_photos_folder = os.path.join(base_path, \"No_photos\")\n",
    "\n",
    "# Folders to merge\n",
    "other_folders = [\n",
    "    os.path.join(base_path, \"Painting\"),\n",
    "    os.path.join(base_path, \"Schematics\"),\n",
    "    os.path.join(base_path, \"Sketch\"),\n",
    "    os.path.join(base_path, \"Text\")\n",
    "]\n",
    "\n",
    "# Ensure No_photos folder exists and is empty\n",
    "if os.path.exists(no_photos_folder):\n",
    "    shutil.rmtree(no_photos_folder)\n",
    "os.makedirs(no_photos_folder)\n",
    "\n",
    "# Function to check if a file is corrupted (image verification only)\n",
    "def is_file_corrupted(filepath):\n",
    "    try:\n",
    "        with Image.open(filepath) as img:\n",
    "            img.verify()\n",
    "        return False\n",
    "    except:\n",
    "        return True\n",
    "\n",
    "# Clean corrupted files and collect valid ones\n",
    "valid_files = {}\n",
    "for folder in other_folders:\n",
    "    all_files = [os.path.join(folder, f) for f in os.listdir(folder) if os.path.isfile(os.path.join(folder, f))]\n",
    "    valid = [f for f in all_files if not is_file_corrupted(f)]\n",
    "    valid_files[folder] = valid\n",
    "\n",
    "# Get number of files in Photo folder\n",
    "photo_files = [f for f in os.listdir(photo_folder) if os.path.isfile(os.path.join(photo_folder, f))]\n",
    "n_photo_files = len(photo_files)\n",
    "\n",
    "# Total valid files in the 4 folders\n",
    "total_valid = sum(len(files) for files in valid_files.values())\n",
    "\n",
    "# Copy proportional number of files into No_photos\n",
    "for folder, files in valid_files.items():\n",
    "    ratio = len(files) / total_valid\n",
    "    n_to_copy = round(ratio * n_photo_files)\n",
    "    selected_files = random.sample(files, min(n_to_copy, len(files)))\n",
    "    \n",
    "    for file_path in selected_files:\n",
    "        shutil.copy(file_path, no_photos_folder)\n",
    "\n",
    "print(\"✅ No_photos folder created with matching proportions and cleaned of corrupted files.\")\n"
   ]
  }
 ],
 "metadata": {
  "kernelspec": {
   "display_name": "Python 3",
   "language": "python",
   "name": "python3"
  },
  "language_info": {
   "codemirror_mode": {
    "name": "ipython",
    "version": 3
   },
   "file_extension": ".py",
   "mimetype": "text/x-python",
   "name": "python",
   "nbconvert_exporter": "python",
   "pygments_lexer": "ipython3",
   "version": "3.12.7"
  }
 },
 "nbformat": 4,
 "nbformat_minor": 5
}
